{
  "nbformat": 4,
  "nbformat_minor": 0,
  "metadata": {
    "colab": {
      "provenance": [],
      "authorship_tag": "ABX9TyNhGFCtmHu7ytkYrAQpHlYL",
      "include_colab_link": true
    },
    "kernelspec": {
      "name": "python3",
      "display_name": "Python 3"
    },
    "language_info": {
      "name": "python"
    }
  },
  "cells": [
    {
      "cell_type": "markdown",
      "metadata": {
        "id": "view-in-github",
        "colab_type": "text"
      },
      "source": [
        "<a href=\"https://colab.research.google.com/github/yyyxi18/TKU-AI_411631269/blob/main/TKU411631269_Taipei.ipynb\" target=\"_parent\"><img src=\"https://colab.research.google.com/assets/colab-badge.svg\" alt=\"Open In Colab\"/></a>"
      ]
    },
    {
      "cell_type": "code",
      "execution_count": null,
      "metadata": {
        "colab": {
          "base_uri": "https://localhost:8080/"
        },
        "id": "mr8XjcLi9vcv",
        "outputId": "8c16a23f-2c26-44f1-d3ae-af7da3af1875"
      },
      "outputs": [
        {
          "output_type": "stream",
          "name": "stdout",
          "text": [
            "歡迎來到台北市～\n",
            "請輸入區域查詢郵遞區號\n"
          ]
        }
      ],
      "source": [
        "print(\"歡迎來到台北市～\")\n",
        "print(\"請輸入區域查詢郵遞區號\")\n",
        "input()\n",
        "\n",
        "if input('中正區'):\n",
        "  print('100')\n",
        "\n",
        "elif input('大同區'):\n",
        "  print('103')\n",
        "\n",
        "elif input('中山區'):\n",
        "  print('104')\n",
        "\n",
        "elif input('松山區'):\n",
        "  print('105')\n",
        "\n",
        "elif input('大安區'):\n",
        "  print('106')\n",
        "\n",
        "elif input('萬華區'):\n",
        "  print('108')\n",
        "\n",
        "elif input('信義區'):\n",
        "  print('110')\n",
        "\n",
        "elif input('士林區'):\n",
        "  print('111')\n",
        "\n",
        "elif input('北投區'):\n",
        "  print('112')\n",
        "\n",
        "elif input('內湖區'):\n",
        "  print('114')\n",
        "\n",
        "elif input('南港區'):\n",
        "  print('115')\n",
        "\n",
        "elif input('文山區'):\n",
        "  print('116')\n",
        "\n",
        "\n",
        "\n"
      ]
    }
  ]
}